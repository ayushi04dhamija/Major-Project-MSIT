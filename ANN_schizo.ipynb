{
 "cells": [
  {
   "cell_type": "code",
   "execution_count": 35,
   "metadata": {
    "colab": {
     "base_uri": "https://localhost:8080/",
     "height": 34
    },
    "colab_type": "code",
    "id": "ZM6qhVnYpiYR",
    "outputId": "8daaf6d4-348b-4b05-819d-979dfee3e609"
   },
   "outputs": [
    {
     "name": "stdout",
     "output_type": "stream",
     "text": [
      "2.2.0-rc2\n"
     ]
    }
   ],
   "source": [
    "import pandas as pd\n",
    "import seaborn as sn\n",
    "import matplotlib.pyplot as plt\n",
    "from sklearn.model_selection import train_test_split, cross_val_score\n",
    "from sklearn.preprocessing import StandardScaler\n",
    "import tensorflow as tf\n",
    "from tensorflow import keras\n",
    "from sklearn.neural_network import MLPClassifier\n",
    "# from tensorflow.python.keras.layers import Dense\n",
    "# from tensorflow.python.keras import Sequential\n",
    "import numpy as np\n",
    "from sklearn.metrics import accuracy_score\n",
    "from sklearn.metrics import precision_score\n",
    "from sklearn.metrics import recall_score\n",
    "from sklearn.metrics import f1_score\n",
    "from sklearn.metrics import cohen_kappa_score\n",
    "from sklearn.metrics import roc_auc_score\n",
    "from sklearn.metrics import confusion_matrix\n",
    "print(tf.__version__)"
   ]
  },
  {
   "cell_type": "code",
   "execution_count": 0,
   "metadata": {
    "colab": {},
    "colab_type": "code",
    "id": "d81IP6cpqK1u"
   },
   "outputs": [],
   "source": [
    "ERP = pd.read_csv('../final_schizo.csv')"
   ]
  },
  {
   "cell_type": "code",
   "execution_count": 37,
   "metadata": {
    "colab": {
     "base_uri": "https://localhost:8080/",
     "height": 419
    },
    "colab_type": "code",
    "id": "z-I_tMEqqadQ",
    "outputId": "b30f9c81-1eff-4ad9-a52b-081da2bb0184"
   },
   "outputs": [
    {
     "data": {
      "text/html": [
       "<div>\n",
       "<style scoped>\n",
       "    .dataframe tbody tr th:only-of-type {\n",
       "        vertical-align: middle;\n",
       "    }\n",
       "\n",
       "    .dataframe tbody tr th {\n",
       "        vertical-align: top;\n",
       "    }\n",
       "\n",
       "    .dataframe thead th {\n",
       "        text-align: right;\n",
       "    }\n",
       "</style>\n",
       "<table border=\"1\" class=\"dataframe\">\n",
       "  <thead>\n",
       "    <tr style=\"text-align: right;\">\n",
       "      <th></th>\n",
       "      <th>Unnamed: 0</th>\n",
       "      <th>subject</th>\n",
       "      <th>Fz</th>\n",
       "      <th>FCz</th>\n",
       "      <th>Cz</th>\n",
       "      <th>FC3</th>\n",
       "      <th>FC4</th>\n",
       "      <th>C3</th>\n",
       "      <th>C4</th>\n",
       "      <th>CP3</th>\n",
       "      <th>CP4</th>\n",
       "      <th>group</th>\n",
       "    </tr>\n",
       "  </thead>\n",
       "  <tbody>\n",
       "    <tr>\n",
       "      <th>0</th>\n",
       "      <td>0</td>\n",
       "      <td>1</td>\n",
       "      <td>1.857458</td>\n",
       "      <td>2.663352</td>\n",
       "      <td>3.051918</td>\n",
       "      <td>1.789011</td>\n",
       "      <td>1.961065</td>\n",
       "      <td>4.949901</td>\n",
       "      <td>2.282836</td>\n",
       "      <td>4.664762</td>\n",
       "      <td>3.425792</td>\n",
       "      <td>0</td>\n",
       "    </tr>\n",
       "    <tr>\n",
       "      <th>1</th>\n",
       "      <td>1</td>\n",
       "      <td>1</td>\n",
       "      <td>1.769692</td>\n",
       "      <td>2.601734</td>\n",
       "      <td>3.005648</td>\n",
       "      <td>1.868428</td>\n",
       "      <td>1.774454</td>\n",
       "      <td>5.024462</td>\n",
       "      <td>2.194537</td>\n",
       "      <td>4.737277</td>\n",
       "      <td>3.272531</td>\n",
       "      <td>0</td>\n",
       "    </tr>\n",
       "    <tr>\n",
       "      <th>2</th>\n",
       "      <td>2</td>\n",
       "      <td>1</td>\n",
       "      <td>1.764793</td>\n",
       "      <td>2.542194</td>\n",
       "      <td>3.002812</td>\n",
       "      <td>1.873400</td>\n",
       "      <td>1.800019</td>\n",
       "      <td>4.957654</td>\n",
       "      <td>2.152802</td>\n",
       "      <td>4.700508</td>\n",
       "      <td>3.171712</td>\n",
       "      <td>0</td>\n",
       "    </tr>\n",
       "    <tr>\n",
       "      <th>3</th>\n",
       "      <td>3</td>\n",
       "      <td>1</td>\n",
       "      <td>1.884980</td>\n",
       "      <td>2.632460</td>\n",
       "      <td>3.198821</td>\n",
       "      <td>1.987578</td>\n",
       "      <td>2.028194</td>\n",
       "      <td>5.091695</td>\n",
       "      <td>2.337921</td>\n",
       "      <td>4.914420</td>\n",
       "      <td>3.385077</td>\n",
       "      <td>0</td>\n",
       "    </tr>\n",
       "    <tr>\n",
       "      <th>4</th>\n",
       "      <td>4</td>\n",
       "      <td>1</td>\n",
       "      <td>1.591516</td>\n",
       "      <td>2.369464</td>\n",
       "      <td>2.965318</td>\n",
       "      <td>1.868979</td>\n",
       "      <td>1.853117</td>\n",
       "      <td>4.894329</td>\n",
       "      <td>2.262968</td>\n",
       "      <td>4.730303</td>\n",
       "      <td>3.335385</td>\n",
       "      <td>0</td>\n",
       "    </tr>\n",
       "    <tr>\n",
       "      <th>...</th>\n",
       "      <td>...</td>\n",
       "      <td>...</td>\n",
       "      <td>...</td>\n",
       "      <td>...</td>\n",
       "      <td>...</td>\n",
       "      <td>...</td>\n",
       "      <td>...</td>\n",
       "      <td>...</td>\n",
       "      <td>...</td>\n",
       "      <td>...</td>\n",
       "      <td>...</td>\n",
       "      <td>...</td>\n",
       "    </tr>\n",
       "    <tr>\n",
       "      <th>248827</th>\n",
       "      <td>248827</td>\n",
       "      <td>81</td>\n",
       "      <td>-0.401267</td>\n",
       "      <td>0.041014</td>\n",
       "      <td>-0.352556</td>\n",
       "      <td>0.712530</td>\n",
       "      <td>-0.427019</td>\n",
       "      <td>0.479170</td>\n",
       "      <td>1.041864</td>\n",
       "      <td>0.645761</td>\n",
       "      <td>-0.085649</td>\n",
       "      <td>1</td>\n",
       "    </tr>\n",
       "    <tr>\n",
       "      <th>248828</th>\n",
       "      <td>248828</td>\n",
       "      <td>81</td>\n",
       "      <td>-0.440294</td>\n",
       "      <td>0.093863</td>\n",
       "      <td>-0.422151</td>\n",
       "      <td>0.792209</td>\n",
       "      <td>-0.469230</td>\n",
       "      <td>0.486767</td>\n",
       "      <td>0.955658</td>\n",
       "      <td>0.601938</td>\n",
       "      <td>-0.264824</td>\n",
       "      <td>1</td>\n",
       "    </tr>\n",
       "    <tr>\n",
       "      <th>248829</th>\n",
       "      <td>248829</td>\n",
       "      <td>81</td>\n",
       "      <td>-0.466162</td>\n",
       "      <td>0.083799</td>\n",
       "      <td>-0.485091</td>\n",
       "      <td>0.799034</td>\n",
       "      <td>-0.466002</td>\n",
       "      <td>0.516740</td>\n",
       "      <td>0.972635</td>\n",
       "      <td>0.612470</td>\n",
       "      <td>-0.463196</td>\n",
       "      <td>1</td>\n",
       "    </tr>\n",
       "    <tr>\n",
       "      <th>248830</th>\n",
       "      <td>248830</td>\n",
       "      <td>81</td>\n",
       "      <td>-0.472620</td>\n",
       "      <td>0.003017</td>\n",
       "      <td>-0.465663</td>\n",
       "      <td>0.675452</td>\n",
       "      <td>-0.408777</td>\n",
       "      <td>0.558901</td>\n",
       "      <td>0.943028</td>\n",
       "      <td>0.635287</td>\n",
       "      <td>-0.656748</td>\n",
       "      <td>1</td>\n",
       "    </tr>\n",
       "    <tr>\n",
       "      <th>248831</th>\n",
       "      <td>248831</td>\n",
       "      <td>81</td>\n",
       "      <td>-0.496193</td>\n",
       "      <td>0.044210</td>\n",
       "      <td>-0.503998</td>\n",
       "      <td>0.711932</td>\n",
       "      <td>-0.426605</td>\n",
       "      <td>0.672328</td>\n",
       "      <td>0.805889</td>\n",
       "      <td>0.602888</td>\n",
       "      <td>-0.719264</td>\n",
       "      <td>1</td>\n",
       "    </tr>\n",
       "  </tbody>\n",
       "</table>\n",
       "<p>248832 rows × 12 columns</p>\n",
       "</div>"
      ],
      "text/plain": [
       "        Unnamed: 0  subject        Fz  ...       CP3       CP4   group\n",
       "0                0        1  1.857458  ...  4.664762  3.425792       0\n",
       "1                1        1  1.769692  ...  4.737277  3.272531       0\n",
       "2                2        1  1.764793  ...  4.700508  3.171712       0\n",
       "3                3        1  1.884980  ...  4.914420  3.385077       0\n",
       "4                4        1  1.591516  ...  4.730303  3.335385       0\n",
       "...            ...      ...       ...  ...       ...       ...     ...\n",
       "248827      248827       81 -0.401267  ...  0.645761 -0.085649       1\n",
       "248828      248828       81 -0.440294  ...  0.601938 -0.264824       1\n",
       "248829      248829       81 -0.466162  ...  0.612470 -0.463196       1\n",
       "248830      248830       81 -0.472620  ...  0.635287 -0.656748       1\n",
       "248831      248831       81 -0.496193  ...  0.602888 -0.719264       1\n",
       "\n",
       "[248832 rows x 12 columns]"
      ]
     },
     "execution_count": 37,
     "metadata": {
      "tags": []
     },
     "output_type": "execute_result"
    }
   ],
   "source": [
    "ERP\n",
    "\n"
   ]
  },
  {
   "cell_type": "code",
   "execution_count": 38,
   "metadata": {
    "colab": {
     "base_uri": "https://localhost:8080/",
     "height": 313
    },
    "colab_type": "code",
    "id": "pPqYe3U5qi0c",
    "outputId": "dd2afc0c-4eba-4d2a-be15-3660d283eb92"
   },
   "outputs": [
    {
     "name": "stdout",
     "output_type": "stream",
     "text": [
      "The number of trials for the fit class is: 98304\n",
      "The number of trials for the schizoprenic class is: 150528\n"
     ]
    },
    {
     "data": {
      "image/png": "[encoded data removed]",
      "text/plain": [
       "<Figure size 432x288 with 1 Axes>"
      ]
     },
     "metadata": {
      "needs_background": "light",
      "tags": []
     },
     "output_type": "display_data"
    }
   ],
   "source": [
    "cols = ERP.columns\n",
    "tgt = ERP[' group']\n",
    "ax = sn.countplot(tgt,label=\"Count\")\n",
    "schizoprenic, fit = tgt.value_counts()\n",
    "print('The number of trials for the fit class is:', fit)\n",
    "print('The number of trials for the schizoprenic class is:', schizoprenic)\n"
   ]
  },
  {
   "cell_type": "code",
   "execution_count": 39,
   "metadata": {
    "colab": {
     "base_uri": "https://localhost:8080/",
     "height": 238
    },
    "colab_type": "code",
    "id": "U9EV_zfwqlJi",
    "outputId": "37eda5d1-3f3d-4776-84b1-467944829e38"
   },
   "outputs": [
    {
     "data": {
      "text/plain": [
       "Unnamed: 0    0\n",
       "subject       0\n",
       "Fz            0\n",
       "FCz           0\n",
       "Cz            0\n",
       "FC3           0\n",
       "FC4           0\n",
       "C3            0\n",
       "C4            0\n",
       "CP3           0\n",
       "CP4           0\n",
       " group        0\n",
       "dtype: int64"
      ]
     },
     "execution_count": 39,
     "metadata": {
      "tags": []
     },
     "output_type": "execute_result"
    }
   ],
   "source": [
    "ERP.isnull().sum()\n"
   ]
  },
  {
   "cell_type": "code",
   "execution_count": 40,
   "metadata": {
    "colab": {
     "base_uri": "https://localhost:8080/",
     "height": 340
    },
    "colab_type": "code",
    "id": "6aARbU3nqnmS",
    "outputId": "0b006f0c-dd3c-478e-89c2-bf80cc6a9b47"
   },
   "outputs": [
    {
     "name": "stdout",
     "output_type": "stream",
     "text": [
      "<class 'pandas.core.frame.DataFrame'>\n",
      "RangeIndex: 248832 entries, 0 to 248831\n",
      "Data columns (total 12 columns):\n",
      " #   Column      Non-Null Count   Dtype  \n",
      "---  ------      --------------   -----  \n",
      " 0   Unnamed: 0  248832 non-null  int64  \n",
      " 1   subject     248832 non-null  int64  \n",
      " 2   Fz          248832 non-null  float64\n",
      " 3   FCz         248832 non-null  float64\n",
      " 4   Cz          248832 non-null  float64\n",
      " 5   FC3         248832 non-null  float64\n",
      " 6   FC4         248832 non-null  float64\n",
      " 7   C3          248832 non-null  float64\n",
      " 8   C4          248832 non-null  float64\n",
      " 9   CP3         248832 non-null  float64\n",
      " 10  CP4         248832 non-null  float64\n",
      " 11   group      248832 non-null  int64  \n",
      "dtypes: float64(9), int64(3)\n",
      "memory usage: 22.8 MB\n"
     ]
    }
   ],
   "source": [
    "ERP.info()\n"
   ]
  },
  {
   "cell_type": "code",
   "execution_count": 41,
   "metadata": {
    "colab": {
     "base_uri": "https://localhost:8080/",
     "height": 317
    },
    "colab_type": "code",
    "id": "mOyoOnC3qo9u",
    "outputId": "91b7048b-9475-4c34-c383-0c03dbc0b650"
   },
   "outputs": [
    {
     "data": {
      "text/html": [
       "<div>\n",
       "<style scoped>\n",
       "    .dataframe tbody tr th:only-of-type {\n",
       "        vertical-align: middle;\n",
       "    }\n",
       "\n",
       "    .dataframe tbody tr th {\n",
       "        vertical-align: top;\n",
       "    }\n",
       "\n",
       "    .dataframe thead th {\n",
       "        text-align: right;\n",
       "    }\n",
       "</style>\n",
       "<table border=\"1\" class=\"dataframe\">\n",
       "  <thead>\n",
       "    <tr style=\"text-align: right;\">\n",
       "      <th></th>\n",
       "      <th>Unnamed: 0</th>\n",
       "      <th>subject</th>\n",
       "      <th>Fz</th>\n",
       "      <th>FCz</th>\n",
       "      <th>Cz</th>\n",
       "      <th>FC3</th>\n",
       "      <th>FC4</th>\n",
       "      <th>C3</th>\n",
       "      <th>C4</th>\n",
       "      <th>CP3</th>\n",
       "      <th>CP4</th>\n",
       "      <th>group</th>\n",
       "    </tr>\n",
       "  </thead>\n",
       "  <tbody>\n",
       "    <tr>\n",
       "      <th>count</th>\n",
       "      <td>248832.000000</td>\n",
       "      <td>248832.000000</td>\n",
       "      <td>248832.000000</td>\n",
       "      <td>248832.000000</td>\n",
       "      <td>248832.000000</td>\n",
       "      <td>248832.000000</td>\n",
       "      <td>248832.000000</td>\n",
       "      <td>248832.000000</td>\n",
       "      <td>248832.000000</td>\n",
       "      <td>248832.000000</td>\n",
       "      <td>248832.000000</td>\n",
       "      <td>248832.000000</td>\n",
       "    </tr>\n",
       "    <tr>\n",
       "      <th>mean</th>\n",
       "      <td>124415.500000</td>\n",
       "      <td>41.000000</td>\n",
       "      <td>0.548699</td>\n",
       "      <td>1.039918</td>\n",
       "      <td>1.253373</td>\n",
       "      <td>0.840808</td>\n",
       "      <td>0.513989</td>\n",
       "      <td>1.146055</td>\n",
       "      <td>0.579773</td>\n",
       "      <td>0.925381</td>\n",
       "      <td>0.518643</td>\n",
       "      <td>0.604938</td>\n",
       "    </tr>\n",
       "    <tr>\n",
       "      <th>std</th>\n",
       "      <td>71831.755429</td>\n",
       "      <td>23.380951</td>\n",
       "      <td>2.141285</td>\n",
       "      <td>2.366516</td>\n",
       "      <td>2.494080</td>\n",
       "      <td>2.059043</td>\n",
       "      <td>1.825502</td>\n",
       "      <td>2.227648</td>\n",
       "      <td>1.884145</td>\n",
       "      <td>2.225112</td>\n",
       "      <td>1.921775</td>\n",
       "      <td>0.488865</td>\n",
       "    </tr>\n",
       "    <tr>\n",
       "      <th>min</th>\n",
       "      <td>0.000000</td>\n",
       "      <td>1.000000</td>\n",
       "      <td>-9.238550</td>\n",
       "      <td>-9.176126</td>\n",
       "      <td>-11.313430</td>\n",
       "      <td>-9.714905</td>\n",
       "      <td>-9.437540</td>\n",
       "      <td>-7.977966</td>\n",
       "      <td>-10.623550</td>\n",
       "      <td>-8.570679</td>\n",
       "      <td>-11.704520</td>\n",
       "      <td>0.000000</td>\n",
       "    </tr>\n",
       "    <tr>\n",
       "      <th>25%</th>\n",
       "      <td>62207.750000</td>\n",
       "      <td>21.000000</td>\n",
       "      <td>-0.761931</td>\n",
       "      <td>-0.455954</td>\n",
       "      <td>-0.330233</td>\n",
       "      <td>-0.482438</td>\n",
       "      <td>-0.575475</td>\n",
       "      <td>-0.252759</td>\n",
       "      <td>-0.587142</td>\n",
       "      <td>-0.439472</td>\n",
       "      <td>-0.657320</td>\n",
       "      <td>0.000000</td>\n",
       "    </tr>\n",
       "    <tr>\n",
       "      <th>50%</th>\n",
       "      <td>124415.500000</td>\n",
       "      <td>41.000000</td>\n",
       "      <td>0.408099</td>\n",
       "      <td>0.796265</td>\n",
       "      <td>0.898430</td>\n",
       "      <td>0.584198</td>\n",
       "      <td>0.391141</td>\n",
       "      <td>0.870537</td>\n",
       "      <td>0.460987</td>\n",
       "      <td>0.747819</td>\n",
       "      <td>0.408181</td>\n",
       "      <td>1.000000</td>\n",
       "    </tr>\n",
       "    <tr>\n",
       "      <th>75%</th>\n",
       "      <td>186623.250000</td>\n",
       "      <td>61.000000</td>\n",
       "      <td>1.713991</td>\n",
       "      <td>2.321995</td>\n",
       "      <td>2.586085</td>\n",
       "      <td>1.991961</td>\n",
       "      <td>1.551555</td>\n",
       "      <td>2.388095</td>\n",
       "      <td>1.677817</td>\n",
       "      <td>2.195711</td>\n",
       "      <td>1.626807</td>\n",
       "      <td>1.000000</td>\n",
       "    </tr>\n",
       "    <tr>\n",
       "      <th>max</th>\n",
       "      <td>248831.000000</td>\n",
       "      <td>81.000000</td>\n",
       "      <td>22.861889</td>\n",
       "      <td>16.870169</td>\n",
       "      <td>14.813741</td>\n",
       "      <td>20.009208</td>\n",
       "      <td>18.866536</td>\n",
       "      <td>18.436541</td>\n",
       "      <td>16.277234</td>\n",
       "      <td>16.881090</td>\n",
       "      <td>13.735362</td>\n",
       "      <td>1.000000</td>\n",
       "    </tr>\n",
       "  </tbody>\n",
       "</table>\n",
       "</div>"
      ],
      "text/plain": [
       "          Unnamed: 0        subject  ...            CP4          group\n",
       "count  248832.000000  248832.000000  ...  248832.000000  248832.000000\n",
       "mean   124415.500000      41.000000  ...       0.518643       0.604938\n",
       "std     71831.755429      23.380951  ...       1.921775       0.488865\n",
       "min         0.000000       1.000000  ...     -11.704520       0.000000\n",
       "25%     62207.750000      21.000000  ...      -0.657320       0.000000\n",
       "50%    124415.500000      41.000000  ...       0.408181       1.000000\n",
       "75%    186623.250000      61.000000  ...       1.626807       1.000000\n",
       "max    248831.000000      81.000000  ...      13.735362       1.000000\n",
       "\n",
       "[8 rows x 12 columns]"
      ]
     },
     "execution_count": 41,
     "metadata": {
      "tags": []
     },
     "output_type": "execute_result"
    }
   ],
   "source": [
    "ERP.describe()\n"
   ]
  },
  {
   "cell_type": "code",
   "execution_count": 42,
   "metadata": {
    "colab": {
     "base_uri": "https://localhost:8080/",
     "height": 34
    },
    "colab_type": "code",
    "id": "A3fgjLuwqqTa",
    "outputId": "6e205607-fceb-4f91-a942-277c4b446c36"
   },
   "outputs": [
    {
     "data": {
      "text/plain": [
       "(248832, 10)"
      ]
     },
     "execution_count": 42,
     "metadata": {
      "tags": []
     },
     "output_type": "execute_result"
    }
   ],
   "source": [
    "X = ERP.iloc[:,1:11].values\n",
    "X.shape"
   ]
  },
  {
   "cell_type": "code",
   "execution_count": 43,
   "metadata": {
    "colab": {
     "base_uri": "https://localhost:8080/",
     "height": 51
    },
    "colab_type": "code",
    "id": "VlaBjwphIgWk",
    "outputId": "7e8d41eb-7cb3-45c7-ca3b-053f3bddfa87"
   },
   "outputs": [
    {
     "data": {
      "text/plain": [
       "array([1.        , 1.85745789, 2.66335158, 3.05191789, 1.78901053,\n",
       "       1.96106526, 4.94990105, 2.28283579, 4.66476211, 3.42579158])"
      ]
     },
     "execution_count": 43,
     "metadata": {
      "tags": []
     },
     "output_type": "execute_result"
    }
   ],
   "source": [
    "X[0]"
   ]
  },
  {
   "cell_type": "code",
   "execution_count": 44,
   "metadata": {
    "colab": {
     "base_uri": "https://localhost:8080/",
     "height": 34
    },
    "colab_type": "code",
    "id": "eMQU2PlSquwF",
    "outputId": "65346463-7e0a-4b6f-fb53-f5f92a89c164"
   },
   "outputs": [
    {
     "data": {
      "text/plain": [
       "array([0, 0, 0, ..., 1, 1, 1])"
      ]
     },
     "execution_count": 44,
     "metadata": {
      "tags": []
     },
     "output_type": "execute_result"
    }
   ],
   "source": [
    "y = ERP.iloc[:,11].values\n",
    "y"
   ]
  },
  {
   "cell_type": "code",
   "execution_count": 0,
   "metadata": {
    "colab": {},
    "colab_type": "code",
    "id": "fr4mRNzFqxZB"
   },
   "outputs": [],
   "source": [
    "X_train, X_test, y_train, y_test = train_test_split(X, y, test_size = 0.2)"
   ]
  },
  {
   "cell_type": "code",
   "execution_count": 0,
   "metadata": {
    "colab": {},
    "colab_type": "code",
    "id": "5K9s9T28qyuY"
   },
   "outputs": [],
   "source": [
    "sc = StandardScaler()\n",
    "X_train = sc.fit_transform(X_train)\n",
    "X_test = sc.transform(X_test)"
   ]
  },
  {
   "cell_type": "code",
   "execution_count": 47,
   "metadata": {
    "colab": {
     "base_uri": "https://localhost:8080/",
     "height": 51
    },
    "colab_type": "code",
    "id": "YowRCiJoJpyr",
    "outputId": "9c9a25b8-4385-444e-eb57-5f5159ea3e3c"
   },
   "outputs": [
    {
     "data": {
      "text/plain": [
       "array([-0.12930141,  0.10026226,  0.30178814, -0.20055721,  0.0491903 ,\n",
       "        0.58512361, -0.29574723,  0.19043889, -1.00166643, -0.11185612])"
      ]
     },
     "execution_count": 47,
     "metadata": {
      "tags": []
     },
     "output_type": "execute_result"
    }
   ],
   "source": [
    "X_train[0]"
   ]
  },
  {
   "cell_type": "code",
   "execution_count": 0,
   "metadata": {
    "colab": {},
    "colab_type": "code",
    "id": "nKZwE-GMq0Qd"
   },
   "outputs": [],
   "source": [
    "classifier = keras.Sequential()\n"
   ]
  },
  {
   "cell_type": "code",
   "execution_count": 52,
   "metadata": {
    "colab": {
     "base_uri": "https://localhost:8080/",
     "height": 51
    },
    "colab_type": "code",
    "id": "vbGWP9GWwjuF",
    "outputId": "aba9334e-905a-4f83-ff0e-0e1c56f2758e"
   },
   "outputs": [
    {
     "name": "stdout",
     "output_type": "stream",
     "text": [
      "19907/19907 [==============================] - 27s 1ms/step - loss: 0.0438 - accuracy: 0.9923\n"
     ]
    },
    {
     "data": {
      "text/plain": [
       "<tensorflow.python.keras.callbacks.History at 0x7fac5dc776d8>"
      ]
     },
     "execution_count": 52,
     "metadata": {
      "tags": []
     },
     "output_type": "execute_result"
    }
   ],
   "source": [
    "classifier.add(keras.layers.Dense(12, activation = 'relu', input_dim = 10))\n",
    "classifier.add(keras.layers.Dense(8,  activation = 'relu'))\n",
    "classifier.add(keras.layers.Dense(1 ,activation = 'sigmoid'))\n",
    "classifier.compile(optimizer = 'adam', loss = 'binary_crossentropy', metrics = ['accuracy'])\n",
    "\n",
    "#Fitting the ANN to the training set\n",
    "classifier.fit(X_train, y_train, batch_size = 10, nb_epoch = 50)\n",
    "\n"
   ]
  },
  {
   "cell_type": "code",
   "execution_count": 53,
   "metadata": {
    "colab": {
     "base_uri": "https://localhost:8080/",
     "height": 153
    },
    "colab_type": "code",
    "id": "JnZQrDAY0gwr",
    "outputId": "0e5f6caf-3450-420b-aa6e-73986feb3c35"
   },
   "outputs": [
    {
     "name": "stdout",
     "output_type": "stream",
     "text": [
      "Accuracy: 0.997046\n",
      "Precision: 0.995274\n",
      "Recall: 0.999867\n",
      "F1 score: 0.997565\n",
      "Cohens kappa: 0.993811\n",
      "ROC AUC: 0.999903\n",
      "[[19506   143]\n",
      " [    4 30114]]\n"
     ]
    }
   ],
   "source": [
    "\n",
    "# y_pred = classifier.predict(X_test, verbose =0)\n",
    "# y_pred = (y_pred > 0.5)\n",
    "yhat_probs = classifier.predict(X_test, verbose=0)\n",
    "# predict crisp classes for test set\n",
    "yhat_classes = classifier.predict_classes(X_test, verbose=0)\n",
    "# reduce to 1d array\n",
    "yhat_probs = yhat_probs[:, 0]\n",
    "yhat_classes = yhat_classes[:, 0]\n",
    " \n",
    "# accuracy: (tp + tn) / (p + n)\n",
    "accuracy = accuracy_score(y_test, yhat_classes)\n",
    "print('Accuracy: %f' % accuracy)\n",
    "# precision tp / (tp + fp)\n",
    "precision = precision_score(y_test, yhat_classes)\n",
    "print('Precision: %f' % precision)\n",
    "# recall: tp / (tp + fn)\n",
    "recall = recall_score(y_test, yhat_classes)\n",
    "print('Recall: %f' % recall)\n",
    "# f1: 2 tp / (2 tp + fp + fn)\n",
    "f1 = f1_score(y_test, yhat_classes)\n",
    "print('F1 score: %f' % f1)\n",
    " \n",
    "# kappa\n",
    "kappa = cohen_kappa_score(y_test, yhat_classes)\n",
    "print('Cohens kappa: %f' % kappa)\n",
    "# ROC AUC\n",
    "auc = roc_auc_score(y_test, yhat_probs)\n",
    "print('ROC AUC: %f' % auc)\n",
    "# confusion matrix\n",
    "matrix = confusion_matrix(y_test, yhat_classes)\n",
    "print(matrix)"
   ]
  },
  {
   "cell_type": "code",
   "execution_count": 0,
   "metadata": {
    "colab": {},
    "colab_type": "code",
    "id": "Lp8qqXAm4yzd"
   },
   "outputs": [],
   "source": [
    " "
   ]
  }
 ],
 "metadata": {
  "colab": {
   "name": "ANN_schizo.ipynb",
   "provenance": []
  },
  "kernelspec": {
   "display_name": "Python 3",
   "language": "python",
   "name": "python3"
  },
  "language_info": {
   "codemirror_mode": {
    "name": "ipython",
    "version": 3
   },
   "file_extension": ".py",
   "mimetype": "text/x-python",
   "name": "python",
   "nbconvert_exporter": "python",
   "pygments_lexer": "ipython3",
   "version": "3.6.4"
  }
 },
 "nbformat": 4,
 "nbformat_minor": 1
}
